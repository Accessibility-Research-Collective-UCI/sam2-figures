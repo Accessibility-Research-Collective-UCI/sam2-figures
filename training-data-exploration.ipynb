{
 "cells": [
  {
   "cell_type": "code",
   "execution_count": 1,
   "id": "88c3b857-1cbf-4a6c-a438-d352b1484001",
   "metadata": {},
   "outputs": [],
   "source": [
    "import os\n",
    "import json\n",
    "import random \n",
    "\n",
    "import pandas as pd \n",
    "import numpy as np\n",
    "\n",
    "import cv2\n",
    "import torch\n",
    "import torch.nn.utils\n",
    "import torch.nn.functional as F\n",
    "\n",
    "from sam2.build_sam import build_sam2\n",
    "from sam2.sam2_image_predictor import SAM2ImagePredictor\n",
    "\n",
    "import matplotlib.pyplot as plt\n",
    "import matplotlib.patches as patches\n",
    "import matplotlib.patheffects as PathEffects\n",
    "import matplotlib.image as mpimg\n",
    "import matplotlib.colors as mcolors\n",
    "\n",
    "from tqdm.notebook import tqdm"
   ]
  },
  {
   "cell_type": "code",
   "execution_count": 2,
   "id": "cb51c11a-ea0d-46ad-a6c3-42f659e2030d",
   "metadata": {},
   "outputs": [],
   "source": [
    "def read_jsons(input_dir):\n",
    "    json_files = [\n",
    "        pos_json for pos_json in os.listdir(input_dir) if pos_json.endswith(\".json\")\n",
    "    ]\n",
    "    output = [{}] * len(json_files)\n",
    "\n",
    "    # get the image and bounding box\n",
    "    for index, file in enumerate(json_files):  # [0:1]:\n",
    "        with open(os.path.join(input_dir, file), \"r\") as input_file:\n",
    "            data = json.load(input_file)\n",
    "            output[index] = {\n",
    "                \"document\": data[\"shapes\"][0][\"image_name\"],\n",
    "                \"component_name\": data[\"name\"],\n",
    "                \"image\": data[\"origin_image\"],\n",
    "                \"bounding_box\": data[\"shapes\"][0][\"points\"],\n",
    "            }\n",
    "\n",
    "            # DEBUGGING\n",
    "            # if data[\"origin_image\"] == \"./dataset/image/W19-6501-Figure4-1.png\":\n",
    "            #     print(index)\n",
    "            #     print(output[index])\n",
    "            #     print(file)\n",
    "\n",
    "    return output"
   ]
  },
  {
   "cell_type": "code",
   "execution_count": 3,
   "id": "4acfa424-30d2-4396-8304-c257c367b896",
   "metadata": {},
   "outputs": [],
   "source": [
    "data_dir = \"./dataset/\"\n",
    "train_metadata = os.path.join(data_dir, \"train\")\n",
    "val_metadata = os.path.join(data_dir, \"val\")\n",
    "images_dir = os.path.join(data_dir, \"image\")"
   ]
  },
  {
   "cell_type": "code",
   "execution_count": 4,
   "id": "f6c662ee-9a4d-4579-ad11-aaccef6f8aff",
   "metadata": {},
   "outputs": [
    {
     "name": "stdout",
     "output_type": "stream",
     "text": [
      "Number training datapoints: 13761\n",
      "Number validation datapoints: 1000\n"
     ]
    }
   ],
   "source": [
    "train_data = read_jsons(train_metadata)\n",
    "val_data = read_jsons(val_metadata)\n",
    "\n",
    "print(f\"Number training datapoints: {len(train_data)}\")\n",
    "print(f\"Number validation datapoints: {len(val_data)}\")"
   ]
  },
  {
   "cell_type": "code",
   "execution_count": 20,
   "id": "8f48346f-337f-4034-9d80-a86e89fba634",
   "metadata": {},
   "outputs": [
    {
     "data": {
      "application/vnd.jupyter.widget-view+json": {
       "model_id": "8aca37ab6a4f4b2dbd4dd192bd78e33b",
       "version_major": 2,
       "version_minor": 0
      },
      "text/plain": [
       "  0%|          | 0/1000 [00:00<?, ?it/s]"
      ]
     },
     "metadata": {},
     "output_type": "display_data"
    }
   ],
   "source": [
    "resolution = []\n",
    "xaxis = []\n",
    "yaxis = []\n",
    "disk_size = []\n",
    "\n",
    "for file in tqdm(val_data):\n",
    "    img = cv2.imread(file[\"image\"])[...,::-1]\n",
    "    xaxis.append(img.shape[0])\n",
    "    yaxis.append(img.shape[1])\n",
    "    resolution.append(img.shape[0] * img.shape[1])\n",
    "    disk_size.append(os.path.getsize(file[\"image\"]))"
   ]
  },
  {
   "cell_type": "code",
   "execution_count": 15,
   "id": "b0fc6fb4-5c1c-4794-80e3-f03c4210dafc",
   "metadata": {},
   "outputs": [
    {
     "data": {
      "text/plain": [
       "np.float64(245570.512)"
      ]
     },
     "execution_count": 15,
     "metadata": {},
     "output_type": "execute_result"
    }
   ],
   "source": [
    "np.average(resolution)"
   ]
  },
  {
   "cell_type": "code",
   "execution_count": 16,
   "id": "f9e15f17-4724-428c-bb17-2553cb82a79d",
   "metadata": {},
   "outputs": [
    {
     "data": {
      "text/plain": [
       "np.float64(379.477)"
      ]
     },
     "execution_count": 16,
     "metadata": {},
     "output_type": "execute_result"
    }
   ],
   "source": [
    "np.average(xaxis)"
   ]
  },
  {
   "cell_type": "code",
   "execution_count": 17,
   "id": "e0248e5c-7564-4d1b-8280-41be4897bf11",
   "metadata": {},
   "outputs": [
    {
     "data": {
      "text/plain": [
       "np.float64(629.82)"
      ]
     },
     "execution_count": 17,
     "metadata": {},
     "output_type": "execute_result"
    }
   ],
   "source": [
    "np.average(yaxis)"
   ]
  },
  {
   "cell_type": "code",
   "execution_count": 24,
   "id": "01fc64e3-c02b-4c2e-8954-f3654787e47b",
   "metadata": {},
   "outputs": [
    {
     "data": {
      "text/plain": [
       "np.float64(54.923392578125)"
      ]
     },
     "execution_count": 24,
     "metadata": {},
     "output_type": "execute_result"
    }
   ],
   "source": [
    "np.average(disk_size) / (1024)"
   ]
  },
  {
   "cell_type": "code",
   "execution_count": null,
   "id": "6ad2a78d-6b40-4c14-abb0-4e496e338880",
   "metadata": {},
   "outputs": [],
   "source": []
  }
 ],
 "metadata": {
  "kernelspec": {
   "display_name": "Python 3 (ipykernel)",
   "language": "python",
   "name": "python3"
  },
  "language_info": {
   "codemirror_mode": {
    "name": "ipython",
    "version": 3
   },
   "file_extension": ".py",
   "mimetype": "text/x-python",
   "name": "python",
   "nbconvert_exporter": "python",
   "pygments_lexer": "ipython3",
   "version": "3.10.12"
  }
 },
 "nbformat": 4,
 "nbformat_minor": 5
}
